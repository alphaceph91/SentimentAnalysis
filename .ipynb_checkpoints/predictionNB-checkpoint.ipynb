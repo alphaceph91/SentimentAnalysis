{
 "cells": [
  {
   "cell_type": "code",
   "execution_count": 1,
   "id": "d070746f-a27f-4a77-8d12-a8b149cde368",
   "metadata": {},
   "outputs": [],
   "source": [
    "import os\n",
    "import torch\n",
    "import torch.nn.functional as F\n",
    "from transformers import BertTokenizer"
   ]
  },
  {
   "cell_type": "code",
   "execution_count": 2,
   "id": "e67d71e7-0267-46d0-bddb-7b4280277806",
   "metadata": {},
   "outputs": [],
   "source": [
    "def tokenize_text(review_text, tokenizer, max_length=128):\n",
    "    \"\"\"\n",
    "    Tokenizes the input review text using the provided tokenizer\n",
    "    Returns input_ids and attention_mask tensors\n",
    "    \"\"\"\n",
    "    encoding = tokenizer.encode_plus(\n",
    "        review_text,\n",
    "        add_special_tokens=True,\n",
    "        max_length=max_length,\n",
    "        padding='max_length',\n",
    "        truncation=True,\n",
    "        return_attention_mask=True,\n",
    "        return_tensors=\"pt\"\n",
    "    )\n",
    "    return encoding['input_ids'], encoding['attention_mask']\n",
    "\n",
    "def predict(review_text, model, tokenizer, device):\n",
    "    \"\"\"\n",
    "    Performs inference on the input review text\n",
    "    Returns predicted sentiment index and its probabilities\n",
    "    \"\"\"\n",
    "    model.eval()\n",
    "    input_ids, attention_mask = tokenize_text(review_text, tokenizer)\n",
    "    input_ids = input_ids.to(device)\n",
    "    attention_mask = attention_mask.to(device)\n",
    "    \n",
    "    with torch.no_grad():\n",
    "        # Use only the sentiment logits for prediction\n",
    "        sentiment_logits = model(input_ids, attention_mask=attention_mask)\n",
    "    \n",
    "    pred_sentiment_idx = torch.argmax(sentiment_logits, dim=1).item()\n",
    "    sentiment_probs = F.softmax(sentiment_logits, dim=1).cpu().numpy()[0]\n",
    "    \n",
    "    return pred_sentiment_idx, sentiment_probs"
   ]
  },
  {
   "cell_type": "code",
   "execution_count": 3,
   "id": "333f2587-011d-425f-afe2-8ff86d9c8cd1",
   "metadata": {},
   "outputs": [
    {
     "name": "stdout",
     "output_type": "stream",
     "text": [
      "Loaded checkpoint from checkpoints/best_model_epoch_5.pth\n"
     ]
    }
   ],
   "source": [
    "#setting the CUDA device to GPU if available, else uses the CPU\n",
    "device = torch.device(\"cuda\" if torch.cuda.is_available() else \"cpu\")\n",
    "\n",
    "#importing the model loading function\n",
    "from models.BERT_model import load_model as load_model_bert\n",
    "\n",
    "#initializing the tokenizer and model\n",
    "tokenizer = BertTokenizer.from_pretrained(\"bert-base-uncased\")\n",
    "model = load_model_bert(num_sentiment_labels=2)\n",
    "model = model.to(device)\n",
    "\n",
    "#defining the checkpoint path\n",
    "checkpoint_path = \"checkpoints/best_model_epoch_5.pth\"\n",
    "if not os.path.exists(checkpoint_path):\n",
    "    raise FileNotFoundError(f\"Checkpoint not found: {checkpoint_path}\")\n",
    "\n",
    "#loading the checkpoint weights into the model\n",
    "model.load_state_dict(torch.load(checkpoint_path, map_location=device))\n",
    "print(f\"Loaded checkpoint from {checkpoint_path}\")"
   ]
  },
  {
   "cell_type": "code",
   "execution_count": 4,
   "id": "9e49f758-2b74-42b2-924d-70d91b421217",
   "metadata": {},
   "outputs": [
    {
     "name": "stdout",
     "output_type": "stream",
     "text": [
      "\n",
      "--- Prediction ---\n",
      "Input Review Text: The movie had good story and good characters. I would like to watch it again\n",
      "Predicted Sentiment: Good (Probabilities: [0.3433452  0.65665483])\n"
     ]
    }
   ],
   "source": [
    "#example for \"good\" review text for testing the model and inference\n",
    "review_text = \"The movie had good story and good characters. I would like to watch it again\"\n",
    "\n",
    "#running the prediction function\n",
    "pred_sentiment_idx, sentiment_probs = predict(review_text, model, tokenizer, device)\n",
    "predicted_sentiment = \"Good\" if pred_sentiment_idx == 1 else \"Bad\"\n",
    "\n",
    "#displaying the prediction results\n",
    "print(\"\\n--- Prediction ---\")\n",
    "print(f\"Input Review Text: {review_text}\")\n",
    "print(f\"Predicted Sentiment: {predicted_sentiment} (Probabilities: {sentiment_probs})\")"
   ]
  },
  {
   "cell_type": "code",
   "execution_count": 5,
   "id": "be7a9b6a-4515-491a-a5d6-8d71248a78f4",
   "metadata": {},
   "outputs": [
    {
     "name": "stdout",
     "output_type": "stream",
     "text": [
      "\n",
      "--- Prediction ---\n",
      "Input Review Text: The movie had bad story and bad characters. I will not like to watch this movie again\n",
      "Predicted Sentiment: Bad (Probabilities: [0.8756234 0.1243766])\n"
     ]
    }
   ],
   "source": [
    "#example for \"bad\" review\n",
    "review_text = \"The movie had bad story and bad characters. I will not like to watch this movie again\"\n",
    "\n",
    "pred_sentiment_idx, sentiment_probs = predict(review_text, model, tokenizer, device)\n",
    "predicted_sentiment = \"Good\" if pred_sentiment_idx == 1 else \"Bad\"\n",
    "\n",
    "print(\"\\n--- Prediction ---\")\n",
    "print(f\"Input Review Text: {review_text}\")\n",
    "print(f\"Predicted Sentiment: {predicted_sentiment} (Probabilities: {sentiment_probs})\")"
   ]
  },
  {
   "cell_type": "code",
   "execution_count": 6,
   "id": "597f04b7-b2b1-4c2b-a4ad-5b9d63fe0445",
   "metadata": {},
   "outputs": [
    {
     "name": "stdout",
     "output_type": "stream",
     "text": [
      "\n",
      "--- Prediction ---\n",
      "Input Review Text: The movie had good story and but bad characters. I will not watch this movie again\n",
      "Predicted Sentiment: Bad (Probabilities: [0.81436354 0.18563645])\n"
     ]
    }
   ],
   "source": [
    "#another example\n",
    "review_text = \"The movie had good story and but bad characters. I will not watch this movie again\"\n",
    "\n",
    "pred_sentiment_idx, sentiment_probs = predict(review_text, model, tokenizer, device)\n",
    "predicted_sentiment = \"Good\" if pred_sentiment_idx == 1 else \"Bad\"\n",
    "\n",
    "print(\"\\n--- Prediction ---\")\n",
    "print(f\"Input Review Text: {review_text}\")\n",
    "print(f\"Predicted Sentiment: {predicted_sentiment} (Probabilities: {sentiment_probs})\")"
   ]
  },
  {
   "cell_type": "code",
   "execution_count": 7,
   "id": "fc173703-47c9-4ca3-b69c-5bbcb08de49a",
   "metadata": {},
   "outputs": [
    {
     "name": "stdout",
     "output_type": "stream",
     "text": [
      "\n",
      "--- Prediction ---\n",
      "Input Review Text: The movie had bad story and good characters. I might this movie again one more time\n",
      "Predicted Sentiment: Bad (Probabilities: [0.8363882  0.16361183])\n"
     ]
    }
   ],
   "source": [
    "#another example\n",
    "review_text = \"The movie had bad story and good characters. I might this movie again one more time\"\n",
    "\n",
    "pred_sentiment_idx, sentiment_probs = predict(review_text, model, tokenizer, device)\n",
    "predicted_sentiment = \"Good\" if pred_sentiment_idx == 1 else \"Bad\"\n",
    "\n",
    "print(\"\\n--- Prediction ---\")\n",
    "print(f\"Input Review Text: {review_text}\")\n",
    "print(f\"Predicted Sentiment: {predicted_sentiment} (Probabilities: {sentiment_probs})\")"
   ]
  }
 ],
 "metadata": {
  "kernelspec": {
   "display_name": "Python 3 (ipykernel)",
   "language": "python",
   "name": "python3"
  },
  "language_info": {
   "codemirror_mode": {
    "name": "ipython",
    "version": 3
   },
   "file_extension": ".py",
   "mimetype": "text/x-python",
   "name": "python",
   "nbconvert_exporter": "python",
   "pygments_lexer": "ipython3",
   "version": "3.12.9"
  }
 },
 "nbformat": 4,
 "nbformat_minor": 5
}
